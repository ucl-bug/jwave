{
 "cells": [
  {
   "cell_type": "markdown",
   "id": "808b895b-375d-4a64-b7d3-329c2e72d0bf",
   "metadata": {},
   "source": [
    "# Save video\n",
    "\n",
    "⚠️ The `save_video` funcion requires [`opencv`](https://pypi.org/project/opencv-python/) and (optionally) [`tqdm`](https://tqdm.github.io/), which are not installed by default. "
   ]
  },
  {
   "cell_type": "code",
   "execution_count": 1,
   "id": "52df5536-f518-4b65-aaa7-6f99327bce93",
   "metadata": {},
   "outputs": [],
   "source": [
    "import numpy as np\n",
    "from jax import jit\n",
    "from jax import numpy as jnp\n",
    "\n",
    "from jwave import FourierSeries\n",
    "from jwave.geometry import Domain, Medium, TimeAxis\n",
    "from jwave.acoustics import simulate_wave_propagation\n",
    "from jwave.geometry import circ_mask\n",
    "\n",
    "domain = Domain((128, 128), (0.1e-3, 0.1e-3))"
   ]
  },
  {
   "cell_type": "code",
   "execution_count": 2,
   "id": "8bbe4e23-f7d6-4c50-97df-44a437069445",
   "metadata": {},
   "outputs": [
    {
     "name": "stderr",
     "output_type": "stream",
     "text": [
      "No GPU/TPU found, falling back to CPU. (Set TF_CPP_MIN_LOG_LEVEL=0 and rerun for more info.)\n"
     ]
    }
   ],
   "source": [
    "# Defining an heterogeneous density map\n",
    "density = np.ones(domain.N) * 1000\n",
    "density[50:90, 65:100] = 2300\n",
    "density = FourierSeries(np.expand_dims(density, -1), domain)\n",
    "\n",
    "medium = Medium(domain=domain, sound_speed=1500.0, density=density)\n",
    "time_axis = TimeAxis.from_medium(medium, cfl=0.3)\n",
    "\n",
    "# Defining the initial pressure\n",
    "N = domain.N\n",
    "p0 = circ_mask(N, 3, (64, 30))\n",
    "p0 = 1.0 * jnp.expand_dims(p0, -1)\n",
    "p0 = FourierSeries(p0, domain)"
   ]
  },
  {
   "cell_type": "code",
   "execution_count": 3,
   "id": "e5386fc6-cbe7-43c8-a5ec-e6a150c6fed9",
   "metadata": {},
   "outputs": [],
   "source": [
    "medium = Medium(domain=domain, sound_speed=1500.0, density=density)\n",
    "pressure = simulate_wave_propagation(medium, time_axis, p0=p0)"
   ]
  },
  {
   "cell_type": "code",
   "execution_count": 4,
   "id": "513ae3ad-8ae0-4d7f-8e65-71b89eff7abf",
   "metadata": {},
   "outputs": [
    {
     "name": "stderr",
     "output_type": "stream",
     "text": [
      "100%|██████████████████████████████████████████████████████████████████████████████████████████████████████████████████████████████████████████████████████████████████████████████████████████| 599/599 [00:01<00:00, 347.57it/s]\n"
     ]
    }
   ],
   "source": [
    "from jwave.extras.export import save_video\n",
    "\n",
    "save_video(pressure, './sample_video.mp4', vmax=0.05, vmin=-0.05, fps=50)"
   ]
  },
  {
   "cell_type": "markdown",
   "id": "1230bbf5-48f3-4039-902e-d0532f1164c4",
   "metadata": {},
   "source": [
    "You can now find a video in the same folder as this notebook"
   ]
  },
  {
   "cell_type": "code",
   "execution_count": null,
   "id": "18f77b37-eff6-4b40-9486-1b7c4a856e5f",
   "metadata": {},
   "outputs": [],
   "source": []
  }
 ],
 "metadata": {
  "kernelspec": {
   "display_name": "Python 3 (ipykernel)",
   "language": "python",
   "name": "python3"
  },
  "language_info": {
   "codemirror_mode": {
    "name": "ipython",
    "version": 3
   },
   "file_extension": ".py",
   "mimetype": "text/x-python",
   "name": "python",
   "nbconvert_exporter": "python",
   "pygments_lexer": "ipython3",
   "version": "3.11.4"
  }
 },
 "nbformat": 4,
 "nbformat_minor": 5
}
